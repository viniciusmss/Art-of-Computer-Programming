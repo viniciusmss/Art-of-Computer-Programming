{
 "cells": [
  {
   "cell_type": "markdown",
   "metadata": {},
   "source": [
    "# Basic Concepts"
   ]
  },
  {
   "cell_type": "markdown",
   "metadata": {},
   "source": [
    "## Algorithms\n"
   ]
  },
  {
   "cell_type": "markdown",
   "metadata": {},
   "source": [
    "**1. **The text showed how to interchange the values of variables $m$ and $n$, using the replacement notation, by setting $t ← m$, $m ← n$, $n ← t$. Show how the values of four variables $(a, b, c, d)$ can be rearranged to $(b, c, d, a)$ by a sequence of replacements. In other words, the new value of $a$ is to be the original value of $b$, etc. Try to use the\n",
    "minimum number of replacements. \n",
    "\n",
    "R:\n",
    "$t \\leftarrow a, a \\leftarrow b, b \\leftarrow c, c \\leftarrow d, d \\leftarrow t$"
   ]
  },
  {
   "cell_type": "markdown",
   "metadata": {},
   "source": [
    "**2. ** Prove that $m$ is always greater than $n$ at the beginning of step E1, except possibly the first time this step occurs. \n",
    "\n",
    "If $n > m$, then $m = 0\\times n + m$, i.e., the remainder $r = m$. Since $ r = m > 0$, E3 executes $m \\leftarrow n, n \\leftarrow r = m$, i.e., $m \\leftrightarrow n$. Now, $m > n$. The remainder $r$ of $m\\ /\\ n$ is always such that $r < n$, which entails $n \\leftarrow r < m \\leftarrow n$ after the execution of E3."
   ]
  },
  {
   "cell_type": "code",
   "execution_count": 26,
   "metadata": {
    "ExecuteTime": {
     "end_time": "2019-04-24T16:52:51.935489Z",
     "start_time": "2019-04-24T16:52:51.910574Z"
    }
   },
   "outputs": [
    {
     "data": {
      "text/plain": [
       "2.6"
      ]
     },
     "execution_count": 26,
     "metadata": {},
     "output_type": "execute_result"
    }
   ],
   "source": [
    "# 6\n",
    "import numpy as np\n",
    "\n",
    "\n",
    "def E(m, n):\n",
    "    E.c += 1\n",
    "    r = m % n\n",
    "    if not r:\n",
    "        return n\n",
    "    while r:\n",
    "        return E(n, r)\n",
    "\n",
    "\n",
    "stor = []\n",
    "for f in range(5):\n",
    "    E.c = 0\n",
    "    E(f, 5)\n",
    "    stor.append(E.c)\n",
    "\n",
    "np.mean(stor)"
   ]
  },
  {
   "cell_type": "markdown",
   "metadata": {
    "ExecuteTime": {
     "end_time": "2019-04-24T14:58:33.841328Z",
     "start_time": "2019-04-24T14:58:33.837273Z"
    }
   },
   "source": [
    "**7. **Suppose that $m$ is known and $n$ is allowed to range over all positive integers; let $U_m$ be the average number of times that step E1 is executed in Algorithm E. Show that $U_m$ is well defined. Is $U_m$ in any way related to $T_m$?\n",
    "\n",
    "For $n \\leq m$, the scaling behavior is complex and hard to compute. Once $n > m$, $m \\leftrightarrow n$ in the first step, and $U_m = T_m + 1$."
   ]
  },
  {
   "cell_type": "markdown",
   "metadata": {},
   "source": [
    "**8.** I'm just trying to understand the solution. Suppose `gcd(6, 4)`. Let $A = \\{a, b, c\\}, N=5.$ \n",
    "\n",
    "`>>> 1.` $(\\sigma, j) = (\\text{aaaaaabbbb}, 0). \\theta_0= \\text{ab} \\in \\sigma \\Rightarrow \\alpha = \\text{aaaaa}, \\omega=\\text{bbb}, f(\\text{aaaaaabbbb}, 0) = (\\text{aaaaabbb}, 1) \\text{ since } \\phi_0=\\text{empty} \\text{ and } b_0=1. $ \n",
    "\n",
    "`>>> 2.` $(\\sigma, j) = (\\text{aaaaabbb}, 1). \\theta_1= \\text{empty} \\in \\sigma \\Rightarrow \\alpha = \\text{empty}, \\omega=\\sigma, f(\\text{aaaaabbb}, 1) = (\\text{caaaaabbb}, 0) \\text{ since } \\phi_1=\\text{c} \\text{ and } b_1=0. $ \n",
    "\n",
    "`>>> 3.` $(\\sigma, j) = (\\text{caaaaabbb}, 0). \\theta_0= \\text{ab} \\in \\sigma \\Rightarrow \\alpha = \\text{caaaa}, \\omega=\\text{bb}, f(\\text{caaaaabbb}, 0) = (\\text{caaaabb}, 1) \\text{ since } \\phi_0=\\text{empty} \\text{ and } b_0=1. $ \n",
    "\n",
    "`>>> 4.` $(\\sigma, j) = (\\text{caaaabb}, 1). \\theta_1= \\text{empty} \\in \\sigma \\Rightarrow \\alpha = \\text{empty}, \\omega=\\sigma, f(\\text{caaaabb}, 1) = (\\text{ccaaaabb}, 0) \\text{ since } \\phi_1=\\text{c} \\text{ and } b_1=0. $ \n",
    "\n",
    "`>>> 5.` $(\\sigma, j) = (\\text{ccaaaabb}, 0). \\theta_0= \\text{ab} \\in \\sigma \\Rightarrow \\alpha = \\text{ccaaa}, \\omega=\\text{b}, f(\\text{ccaaaabb}, 0) = (\\text{ccaaab}, 1) \\text{ since } \\phi_0=\\text{empty} \\text{ and } b_0=1. $ \n",
    "\n",
    "`>>> 6.` $(\\sigma, j) = (\\text{ccaaab}, 1). \\theta_1= \\text{empty} \\in \\sigma \\Rightarrow \\alpha = \\text{empty}, \\omega=\\sigma, f(\\text{ccaaab}, 1) = (\\text{cccaaab}, 0) \\text{ since } \\phi_1=\\text{c} \\text{ and } b_1=0. $ \n",
    "\n",
    "`>>> 7.` $(\\sigma, j) = (\\text{cccaaab}, 0). \\theta_0= \\text{ab} \\in \\sigma \\Rightarrow \\alpha = \\text{cccaa}, \\omega=\\text{empty}, f(\\text{cccaaab}, 0) = (\\text{cccaa}, 1) \\text{ since } \\phi_0=\\text{empty} \\text{ and } b_0=1. $ \n",
    "\n",
    "`>>> 8.` $(\\sigma, j) = (\\text{cccaa}, 1). \\theta_1= \\text{empty} \\in \\sigma \\Rightarrow \\alpha = \\text{empty}, \\omega=\\sigma, f(\\text{cccaa}, 1) = (\\text{ccccaa}, 0) \\text{ since } \\phi_1=\\text{c} \\text{ and } b_1=0. $ \n",
    "\n",
    "`>>> 9.` $(\\sigma, j) = (\\text{ccccaa}, 0). \\theta_0= \\text{ab} \\notin \\sigma \\Rightarrow f(\\text{ccccaa}, 0) = (\\text{ccccaa}, 2) \\text{ since } a_0=2. $ \n",
    "\n",
    "`>>> 10.` $(\\sigma, j) = (\\text{ccccaa}, 2). \\theta_2 = \\text{a} \\in \\sigma \\Rightarrow \\alpha = \\text{cccc}, \\omega=\\text{a}, f(\\text{ccccaa}, 2) = (\\text{ccccba}, 2) \\text{ since } \\phi_2=\\text{b} \\text{ and } b_2=2. $\n",
    "\n",
    "`>>> 11.` $(\\sigma, j) = (\\text{ccccba}, 2). \\theta_2 = \\text{a} \\in \\sigma \\Rightarrow \\alpha = \\text{ccccb}, \\omega=\\text{empty}, f(\\text{ccccba}, 2) = (\\text{ccccbb}, 2) \\text{ since } \\phi_2=\\text{b} \\text{ and } b_2=2. $\n",
    "\n",
    "`>>> 12.` $(\\sigma, j) = (\\text{ccccbb}, 2). \\theta_2 = \\text{a} \\notin \\sigma \\Rightarrow f(\\text{ccccbb}, 2) = (\\text{ccccbb}, 3) \\text{ since } a_2=3. $\n",
    "\n",
    "`>>> 13.` $(\\sigma, j) = (\\text{ccccbb}, 3). \\theta_3 = \\text{c} \\in \\sigma \\Rightarrow \\alpha = \\text{empty}, \\omega=\\text{cccbb}, f(\\text{ccccbb}, 3) = (\\text{acccbb}, 3) \\text{ since } \\phi_3=\\text{a} \\text{ and } b_3=3. $\n",
    "\n",
    "`>>> 14.` $(\\sigma, j) = (\\text{acccbb}, 3). \\theta_3 = \\text{c} \\in \\sigma \\Rightarrow \\alpha = \\text{a}, \\omega=\\text{ccbb}, f(\\text{acccbb}, 3) = (\\text{aaccbb}, 3) \\text{ since } \\phi_3=\\text{a} \\text{ and } b_3=3. $\n",
    "\n",
    "`>>> 15.` $(\\sigma, j) = (\\text{aaccbb}, 3). \\theta_3 = \\text{c} \\in \\sigma \\Rightarrow \\alpha = \\text{aa}, \\omega=\\text{cbb}, f(\\text{aaccbb}, 3) = (\\text{aaacbb}, 3) \\text{ since } \\phi_3=\\text{a} \\text{ and } b_3=3. $\n",
    "\n",
    "`>>> 16.` $(\\sigma, j) = (\\text{aaacbb}, 3). \\theta_3 = \\text{c} \\in \\sigma \\Rightarrow \\alpha = \\text{aaa}, \\omega=\\text{bb}, f(\\text{aaacbb}, 3) = (\\text{aaaabb}, 3) \\text{ since } \\phi_3=\\text{a} \\text{ and } b_3=3. $\n",
    "\n",
    "`>>> 17.` $(\\sigma, j) = (\\text{aaaabb}, 3). \\theta_3 = \\text{c} \\notin \\sigma \\Rightarrow f(\\text{aaaabb}, 3) = (\\text{aaaabb}, 4) \\text{ since } a_3=4. $\n",
    "\n",
    "`>>> 18.` $(\\sigma, j) = (\\text{aaaabb}, 4). \\theta_4 = \\text{b} \\in \\sigma \\Rightarrow \\alpha = \\text{aaaa}, \\omega=\\text{b}, f(\\text{aaaabb}, 4) = (\\text{aaaabb}, 0) \\text{ since } \\phi_4=\\text{b} \\text{ and } b_4=0. $\n",
    "\n",
    "`>>> 19.` $(\\sigma, j) = (\\text{aaaabb}, 0). \\theta_0= \\text{ab} \\in \\sigma \\Rightarrow \\alpha = \\text{aaa}, \\omega=\\text{b}, f(\\text{aaaabb}, 0) = (\\text{aaab}, 1) \\text{ since } \\phi_0=\\text{empty} \\text{ and } b_0=1. $\n",
    "\n",
    "`>>> 20.` $(\\sigma, j) = (\\text{aaab}, 1). \\theta_1= \\text{empty} \\in \\sigma \\Rightarrow \\alpha = \\text{empty}, \\omega=\\sigma, f(\\text{aaab}, 1) = (\\text{caaab}, 0) \\text{ since } \\phi_1=\\text{c} \\text{ and } b_1=0. $ \n",
    "\n",
    "`>>> 19.` $(\\sigma, j) = (\\text{caaab}, 0). \\theta_0= \\text{ab} \\in \\sigma \\Rightarrow \\alpha = \\text{caa}, \\omega=\\text{empty}, f(\\text{caaab}, 0) = (\\text{caa}, 1) \\text{ since } \\phi_0=\\text{empty} \\text{ and } b_0=1. $\n",
    "\n",
    "`>>> 20.` $(\\sigma, j) = (\\text{caa}, 1). \\theta_1= \\text{empty} \\in \\sigma \\Rightarrow \\alpha = \\text{empty}, \\omega=\\sigma, f(\\text{caa}, 1) = (\\text{ccaa}, 0) \\text{ since } \\phi_1=\\text{c} \\text{ and } b_1=0. $ \n",
    "\n",
    "`>>> 21.` $(\\sigma, j) = (\\text{ccaa}, 0). \\theta_0= \\text{ab} \\notin \\sigma \\Rightarrow f(\\text{ccaa}, 0) = (\\text{ccaa}, 2) \\text{ since } a_0=2. $ \n",
    "\n",
    "`>>> 22.` $(\\sigma, j) = (\\text{ccaa}, 2). \\theta_2 = \\text{a} \\in \\sigma \\Rightarrow \\alpha = \\text{cc}, \\omega=\\text{a}, f(\\text{ccaa}, 2) = (\\text{ccba}, 2) \\text{ since } \\phi_2=\\text{b} \\text{ and } b_2=2. $\n",
    "\n",
    "`>>> 23.` $(\\sigma, j) = (\\text{ccba}, 2). \\theta_2 = \\text{a} \\in \\sigma \\Rightarrow \\alpha = \\text{cc}, \\omega=\\text{empty}, f(\\text{ccba}, 2) = (\\text{ccbb}, 2) \\text{ since } \\phi_2=\\text{b} \\text{ and } b_2=2. $\n",
    "\n",
    "`>>> 24.` $(\\sigma, j) = (\\text{ccbb}, 2). \\theta_2 = \\text{a} \\notin \\sigma \\Rightarrow f(\\text{ccbb}, 2) = (\\text{ccbb}, 3) \\text{ since } a_2=3. $\n",
    "\n",
    "`>>> 25.` $(\\sigma, j) = (\\text{ccbb}, 3). \\theta_3 = \\text{c} \\in \\sigma \\Rightarrow \\alpha = \\text{empty}, \\omega=\\text{cbb}, f(\\text{ccbb}, 3) = (\\text{acbb}, 3) \\text{ since } \\phi_3=\\text{a} \\text{ and } b_3=3. $\n",
    "\n",
    "`>>> 25.` $(\\sigma, j) = (\\text{acbb}, 3). \\theta_3 = \\text{c} \\in \\sigma \\Rightarrow \\alpha = \\text{a}, \\omega=\\text{bb}, f(\\text{acbb}, 3) = (\\text{aabb}, 3) \\text{ since } \\phi_3=\\text{a} \\text{ and } b_3=3. $\n",
    "\n",
    "`>>> 26.` $(\\sigma, j) = (\\text{aabb}, 3). \\theta_3 = \\text{c} \\notin \\sigma \\Rightarrow f(\\text{aabb}, 3) = (\\text{aabb}, 4) \\text{ since } a_3=4. $\n",
    "\n",
    "`>>> 27.` $(\\sigma, j) = (\\text{aabb}, 4). \\theta_4 = \\text{b} \\in \\sigma \\Rightarrow \\alpha = \\text{aa}, \\omega=\\text{b}, f(\\text{aabb}, 4) = (\\text{aabb}, 0) \\text{ since } \\phi_4=\\text{b} \\text{ and } b_4=0. $\n",
    "\n",
    "`>>> 28.` $(\\sigma, j) = (\\text{aabb}, 0). \\theta_0= \\text{ab} \\in \\sigma \\Rightarrow \\alpha = \\text{a}, \\omega=\\text{b}, f(\\text{aabb}, 0) = (\\text{ab}, 1) \\text{ since } \\phi_0=\\text{empty} \\text{ and } b_0=1. $\n",
    "\n",
    "`>>> 29.` $(\\sigma, j) = (\\text{ab}, 1). \\theta_1= \\text{empty} \\in \\sigma \\Rightarrow \\alpha = \\text{empty}, \\omega=\\sigma, f(\\text{ab}, 1) = (\\text{cab}, 0) \\text{ since } \\phi_1=\\text{c} \\text{ and } b_1=0. $ \n",
    "\n",
    "`>>> 30.` $(\\sigma, j) = (\\text{cab}, 0). \\theta_0= \\text{ab} \\in \\sigma \\Rightarrow \\alpha = \\text{c}, \\omega=\\text{empty}, f(\\text{cab}, 0) = (\\text{c}, 1) \\text{ since } \\phi_0=\\text{empty} \\text{ and } b_0=1. $\n",
    "\n",
    "`>>> 31.` $(\\sigma, j) = (\\text{c}, 1). \\theta_1= \\text{empty} \\in \\sigma \\Rightarrow \\alpha = \\text{empty}, \\omega=\\sigma, f(\\text{c}, 1) = (\\text{cc}, 0) \\text{ since } \\phi_1=\\text{c} \\text{ and } b_1=0. $ \n",
    "\n",
    "`>>> 32.` $(\\sigma, j) = (\\text{cc}, 0). \\theta_0= \\text{ab} \\notin \\sigma \\Rightarrow f(\\text{cc}, 0) = (\\text{cc}, 2) \\text{ since } a_0=2. $ \n",
    "\n",
    "`>>> 33.` $(\\sigma, j) = (\\text{cc}, 2). \\theta_2 = \\text{a} \\notin \\sigma \\Rightarrow f(\\text{cc}, 2) = (\\text{cc}, 3) \\text{ since } a_2=3. $\n",
    "\n",
    "`>>> 34.` $(\\sigma, j) = (\\text{cc}, 3). \\theta_3 = \\text{c} \\in \\sigma \\Rightarrow \\alpha = \\text{empty}, \\omega=\\text{c}, f(\\text{cc}, 3) = (\\text{ac}, 3) \\text{ since } \\phi_3=\\text{a} \\text{ and } b_3=3. $\n",
    "\n",
    "`>>> 35.` $(\\sigma, j) = (\\text{ac}, 3). \\theta_3 = \\text{c} \\in \\sigma \\Rightarrow \\alpha = \\text{a}, \\omega=\\text{empty}, f(\\text{ac}, 3) = (\\text{aa}, 3) \\text{ since } \\phi_3=\\text{a} \\text{ and } b_3=3. $\n",
    "\n",
    "`>>> 36.` $(\\sigma, j) = (\\text{aa}, 3). \\theta_3 = \\text{c} \\notin \\sigma \\Rightarrow f(\\text{aa}, 3) = (\\text{aa}, 4) \\text{ since } a_3=4. $\n",
    "\n",
    "`>>> 37.` $(\\sigma, j) = (\\text{aa}, 4). \\theta_4 = \\text{b} \\notin \\sigma \\Rightarrow f(\\text{aa}, 4) = (\\text{aa}, 5) \\text{ since } a_4=5. $\n",
    "\n",
    "\n",
    "\n",
    "\n"
   ]
  },
  {
   "cell_type": "code",
   "execution_count": null,
   "metadata": {},
   "outputs": [],
   "source": []
  }
 ],
 "metadata": {
  "kernelspec": {
   "display_name": "Python 3",
   "language": "python",
   "name": "python3"
  },
  "language_info": {
   "codemirror_mode": {
    "name": "ipython",
    "version": 3
   },
   "file_extension": ".py",
   "mimetype": "text/x-python",
   "name": "python",
   "nbconvert_exporter": "python",
   "pygments_lexer": "ipython3",
   "version": "3.6.8"
  },
  "toc": {
   "base_numbering": 1,
   "nav_menu": {},
   "number_sections": true,
   "sideBar": true,
   "skip_h1_title": false,
   "title_cell": "Table of Contents",
   "title_sidebar": "Contents",
   "toc_cell": false,
   "toc_position": {},
   "toc_section_display": true,
   "toc_window_display": false
  },
  "varInspector": {
   "cols": {
    "lenName": 16,
    "lenType": 16,
    "lenVar": 40
   },
   "kernels_config": {
    "python": {
     "delete_cmd_postfix": "",
     "delete_cmd_prefix": "del ",
     "library": "var_list.py",
     "varRefreshCmd": "print(var_dic_list())"
    },
    "r": {
     "delete_cmd_postfix": ") ",
     "delete_cmd_prefix": "rm(",
     "library": "var_list.r",
     "varRefreshCmd": "cat(var_dic_list()) "
    }
   },
   "types_to_exclude": [
    "module",
    "function",
    "builtin_function_or_method",
    "instance",
    "_Feature"
   ],
   "window_display": false
  }
 },
 "nbformat": 4,
 "nbformat_minor": 2
}
